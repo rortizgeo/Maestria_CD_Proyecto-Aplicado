{
 "cells": [
  {
   "cell_type": "markdown",
   "id": "f75e564d",
   "metadata": {},
   "source": [
    "\n",
    "# Objetivo 2: Generación de modelos\n",
    "\n",
    "Pipeline completo para la predicción del crecimiento de datos de biodiversidad en GBIF.\n",
    "\n",
    "Este script implementa el flujo de trabajo de principio a fin para modelar datos de panel\n",
    "de series temporales, incluyendo:\n",
    "1.  Carga datos de PA_dataAnalysis y preparación\n",
    "2.  Ingeniería de características temporales (lags y ventanas móviles).\n",
    "3.  Un marco de validación cruzada robusto para series de tiempo (ventana expansiva).\n",
    "4.  Preprocesamiento (imputación y escalado) dentro del bucle de validación para evitar fuga de datos.\n",
    "5.  Entrenamiento y evaluación comparativa de cuatro modelos:\n",
    "    - Prophet.\n",
    "    - Random Forest.\n",
    "    - XGBoost.\n",
    "    - Red Neuronal LSTM (para modelado secuencial).\n",
    "\n",
    "6.  Selección del mejor modelo basado en métricas de rendimiento (MAE, RMSE, R²).\n",
    "7.  Reentrenamiento del modelo final y generación de pronósticos para Colombia hasta 2030\n",
    "    bajo dos escenarios de políticas."
   ]
  },
  {
   "cell_type": "code",
   "execution_count": 1,
   "id": "8d92da8e",
   "metadata": {},
   "outputs": [
    {
     "name": "stderr",
     "output_type": "stream",
     "text": [
      "Importing plotly failed. Interactive plots will not work.\n"
     ]
    }
   ],
   "source": [
    "# =============================================================================\n",
    "# 1. IMPORTACIÓN DE LIBRERÍAS Y CONFIGURACIÓN INICIAL\n",
    "# =============================================================================\n",
    "import pandas as pd\n",
    "import numpy as np\n",
    "import matplotlib.pyplot as plt\n",
    "import seaborn as sns\n",
    "import warnings\n",
    "from tqdm import tqdm\n",
    "\n",
    "# Preprocesamiento y modelado de Scikit-Learn\n",
    "from sklearn.model_selection import TimeSeriesSplit\n",
    "from sklearn.preprocessing import StandardScaler\n",
    "from sklearn.experimental import enable_iterative_imputer\n",
    "from sklearn.impute import IterativeImputer\n",
    "from sklearn.ensemble import RandomForestRegressor\n",
    "from sklearn.metrics import mean_absolute_error, mean_squared_error, r2_score\n",
    "from sklearn.model_selection import RandomizedSearchCV, GridSearchCV\n",
    "\n",
    "# Modelos especializados\n",
    "\n",
    "import xgboost as xgb\n",
    "from statsmodels.tsa.statespace.sarimax import SARIMAX\n",
    "from prophet import Prophet\n",
    "\n",
    "# Configuraciones generales\n",
    "warnings.filterwarnings('ignore')\n",
    "sns.set_style(\"whitegrid\")\n",
    "plt.rcParams['figure.figsize'] = (15, 7)"
   ]
  },
  {
   "cell_type": "code",
   "execution_count": 2,
   "id": "7bec6131",
   "metadata": {},
   "outputs": [
    {
     "name": "stderr",
     "output_type": "stream",
     "text": [
      "2025-10-05 16:30:55.489032: I tensorflow/core/platform/cpu_feature_guard.cc:182] This TensorFlow binary is optimized to use available CPU instructions in performance-critical operations.\n",
      "To enable the following instructions: SSE4.1 SSE4.2, in other operations, rebuild TensorFlow with the appropriate compiler flags.\n"
     ]
    }
   ],
   "source": [
    "# Modelado de Deep Learning con TensorFlow/Keras\n",
    "import tensorflow as tf\n",
    "from tensorflow.keras.models import Sequential\n",
    "from tensorflow.keras.layers import LSTM, Dense, Dropout\n",
    "from tensorflow.keras.callbacks import EarlyStopping"
   ]
  },
  {
   "cell_type": "code",
   "execution_count": 4,
   "id": "24978f77",
   "metadata": {},
   "outputs": [
    {
     "name": "stdout",
     "output_type": "stream",
     "text": [
      "Transformación log1p aplicada al target.\n"
     ]
    }
   ],
   "source": [
    "#Carga de datos\n",
    "\n",
    "url = \"https://raw.githubusercontent.com/rortizgeo/Maestria_CD_Proyecto-Aplicado/main/Data_final.csv\"\n",
    "Data_final = pd.read_csv(url)\n",
    "\n",
    "# Convertir 'year' a formato de fecha para Prophet\n",
    "Data_final['ds'] = pd.to_datetime(Data_final['year'], format='%Y')\n",
    "\n",
    "# Ordenar los datos por país y año para series de tiempo\n",
    "Data_final = Data_final.sort_values(by=['country', 'ds']).reset_index(drop=True) # Falta ajustar para que la fecha sea al 31 de Diciembre de cada año\n",
    "\n",
    "# Transformar el target ANTES de feature engineering\n",
    "TARGET = 'occurrenceCount_publisher'\n",
    "Data_final[TARGET] = np.log1p(Data_final[TARGET])  \n",
    "\n",
    "print(\"Transformación log1p aplicada al target.\")\n",
    "\n",
    "\n",
    "# Eliminación de columnas por tener muchos vacíos y no ser posible completarlas con imputación. (pensar en otras estrategias)\n",
    "columns_to_drop = ['Overall score', 'areas_protegidas']\n",
    "Data_final = Data_final.drop(columns=columns_to_drop)"
   ]
  },
  {
   "cell_type": "markdown",
   "id": "126e13f3",
   "metadata": {},
   "source": [
    "Para aplicar modelos como Random Forest y XGBoost, es necesario agregar características de temporalidad en los datos, para lo cuál es necesario calcular retardos, que se deben aplicar teniendo en cuenta un análisis del ACF Y PACF, así como la incorporación de los tiempos del retardo como hiperparámetros. \n",
    "\n",
    "Los modelos basados en árboles como Random Forest y XGBoost no son conscientes de la secuencia temporal de los datos y no pueden \"extrapolar\" tendencias más allá de los valores que han visto en el entrenamiento. Por lo tanto, es necesario convertir la información temporal en características que el modelo pueda entender. La creación de retardos (lags) y estadísticas de ventana móvil es la técnica estándar para lograrlo. Se podría identificar el número de retardos como un hiperparámetro, guiado por análisis de ACF y PACF (Ver EDA)"
   ]
  },
  {
   "cell_type": "code",
   "execution_count": 5,
   "id": "76ffa603",
   "metadata": {},
   "outputs": [],
   "source": [
    "# =============================================================================\n",
    "# 2. INGENIERÍA DE CARACTERÍSTICAS TEMPORALES \n",
    "# =============================================================================\n",
    "\n",
    "\n",
    "def create_temporal_features_optimized(data, features_to_lag, \n",
    "                                     lags=[], \n",
    "                                     roll_windows=[],\n",
    "                                     fill_na=0):\n",
    "\n",
    "    df_copy = data.copy()\n",
    "    \n",
    "    for feature in features_to_lag:\n",
    "        for lag in lags:\n",
    "            lag_col = f'{feature}_lag{lag}'\n",
    "            df_copy[lag_col] = df_copy.groupby('country')[feature].shift(lag)\n",
    "        \n",
    "        for w in roll_windows:\n",
    "            mean_col = f'{feature}_rollmean{w}'\n",
    "            df_copy[mean_col] = (\n",
    "                df_copy.groupby('country')[feature]\n",
    "                .shift(1)\n",
    "                .rolling(window=w, min_periods=1)\n",
    "                .mean()\n",
    "            )\n",
    "            \n",
    "            std_col = f'{feature}_rollstd{w}'\n",
    "            df_copy[std_col] = (\n",
    "                df_copy.groupby('country')[feature]\n",
    "                .shift(1)\n",
    "                .rolling(window=w, min_periods=1)\n",
    "                .std()\n",
    "            )\n",
    "\n",
    "    return df_copy\n"
   ]
  },
  {
   "cell_type": "code",
   "execution_count": 6,
   "id": "6ef0a589",
   "metadata": {},
   "outputs": [
    {
     "name": "stdout",
     "output_type": "stream",
     "text": [
      "Ingeniería de características completada.\n",
      "Shape del dataset: (656, 60)\n",
      "Valores NaN restantes: 5360\n",
      "\n",
      "Estadísticas de las nuevas características:\n",
      "         PC1_lag1    PC1_lag3    PC1_lag5  PC1_rollmean1  PC1_rollstd1  \\\n",
      "count  615.000000  533.000000  451.000000     615.000000           0.0   \n",
      "mean     0.041642    0.129046    0.195605       0.041642           NaN   \n",
      "std      2.418907    2.430074    2.443053       2.418907           NaN   \n",
      "min     -3.872488   -3.872488   -3.872488      -3.872488           NaN   \n",
      "25%     -1.733051   -1.664656   -1.607699      -1.733051           NaN   \n",
      "50%     -0.532817   -0.469703   -0.404598      -0.532817           NaN   \n",
      "75%      1.507205    1.561587    1.695762       1.507205           NaN   \n",
      "max      5.620231    5.620231    5.620231       5.620231           NaN   \n",
      "\n",
      "       PC1_rollmean3  PC1_rollstd3  PC1_rollmean5  PC1_rollstd5    PC2_lag1  \\\n",
      "count     655.000000    654.000000     655.000000    654.000000  615.000000   \n",
      "mean        0.043846      0.278045       0.044557      0.447951    0.016283   \n",
      "std         2.374507      0.595648       2.310436      0.705342    1.247333   \n",
      "min        -3.731776      0.000446      -3.622008      0.020169   -4.413805   \n",
      "25%        -1.711285      0.080465      -1.640908      0.138401   -0.612196   \n",
      "50%        -0.469645      0.136469      -0.467031      0.214562    0.010703   \n",
      "75%         1.457696      0.230809       1.441845      0.371867    0.622213   \n",
      "max         5.273150      5.524659       5.189664      4.555007    4.425407   \n",
      "\n",
      "       ...  PC4_rollstd5  occurrenceCount_publisher_lag1  \\\n",
      "count  ...    654.000000                      615.000000   \n",
      "mean   ...      0.271342                       12.336901   \n",
      "std    ...      0.269477                        5.577468   \n",
      "min    ...      0.012718                        0.000000   \n",
      "25%    ...      0.081820                       11.059625   \n",
      "50%    ...      0.177137                       14.242611   \n",
      "75%    ...      0.393703                       16.191434   \n",
      "max    ...      1.898364                       20.422400   \n",
      "\n",
      "       occurrenceCount_publisher_lag3  occurrenceCount_publisher_lag5  \\\n",
      "count                      533.000000                      451.000000   \n",
      "mean                        11.886553                       11.352055   \n",
      "std                          5.760987                        5.992287   \n",
      "min                          0.000000                        0.000000   \n",
      "25%                         10.416221                        9.066643   \n",
      "50%                         14.054983                       13.707407   \n",
      "75%                         15.923729                       15.631456   \n",
      "max                         20.009314                       19.656897   \n",
      "\n",
      "       occurrenceCount_publisher_rollmean1  \\\n",
      "count                           615.000000   \n",
      "mean                             12.336901   \n",
      "std                               5.577468   \n",
      "min                               0.000000   \n",
      "25%                              11.059625   \n",
      "50%                              14.242611   \n",
      "75%                              16.191434   \n",
      "max                              20.422400   \n",
      "\n",
      "       occurrenceCount_publisher_rollstd1  \\\n",
      "count                                 0.0   \n",
      "mean                                  NaN   \n",
      "std                                   NaN   \n",
      "min                                   NaN   \n",
      "25%                                   NaN   \n",
      "50%                                   NaN   \n",
      "75%                                   NaN   \n",
      "max                                   NaN   \n",
      "\n",
      "       occurrenceCount_publisher_rollmean3  \\\n",
      "count                           655.000000   \n",
      "mean                             12.273051   \n",
      "std                               5.354573   \n",
      "min                               0.000000   \n",
      "25%                              10.213619   \n",
      "50%                              14.190944   \n",
      "75%                              16.101211   \n",
      "max                              20.312947   \n",
      "\n",
      "       occurrenceCount_publisher_rollstd3  \\\n",
      "count                          654.000000   \n",
      "mean                             0.974838   \n",
      "std                              2.258782   \n",
      "min                              0.000000   \n",
      "25%                              0.048383   \n",
      "50%                              0.199937   \n",
      "75%                              0.516390   \n",
      "max                             14.440818   \n",
      "\n",
      "       occurrenceCount_publisher_rollmean5  occurrenceCount_publisher_rollstd5  \n",
      "count                           655.000000                          654.000000  \n",
      "mean                             12.273041                            1.673080  \n",
      "std                               5.016353                            2.486714  \n",
      "min                               0.000000                            0.000000  \n",
      "25%                               9.978352                            0.247268  \n",
      "50%                              14.032441                            0.487388  \n",
      "75%                              15.953385                            1.662277  \n",
      "max                              20.079201                           11.728026  \n",
      "\n",
      "[8 rows x 45 columns]\n"
     ]
    }
   ],
   "source": [
    "# =============================================================================\n",
    "# Uso del código optimizado (AJUSTADO: no se llenan con 0 los NaN)\n",
    "# =============================================================================\n",
    "\n",
    "# Aplicar rezagos en bloques. \n",
    "# NOTA: al generar lags/rolling se perderán observaciones iniciales por cada país. Esto es esperado, y deben tratarse después (ej. dropna o imputación).\n",
    "\n",
    "features_to_lag = [\n",
    "    \"PC1\", \"PC2\", \"PC3\", \"PC4\", \"occurrenceCount_publisher\"\n",
    "]\n",
    "\n",
    "# Crear dataset con nuevas features (manteniendo NaN))\n",
    "df_featured = create_temporal_features_optimized(\n",
    "    Data_final,\n",
    "    features_to_lag=features_to_lag,\n",
    "    lags=[1, 3, 5],   \n",
    "    roll_windows=[1, 3, 5],   \n",
    "    fill_na=None  # no se rellena con ceros\n",
    ")\n",
    "\n",
    "# Eliminar las filas que quedaron con NaN:\n",
    "#df_featured = df_featured.dropna().reset_index(drop=True)\n",
    "\n",
    "print(\"Ingeniería de características completada.\")\n",
    "print(f\"Shape del dataset: {df_featured.shape}\")\n",
    "print(f\"Valores NaN restantes: {df_featured.isnull().sum().sum()}\")\n",
    "\n",
    "# Mostrar estadísticas de las nuevas características\n",
    "print(\"\\nEstadísticas de las nuevas características:\")\n",
    "new_features = [col for col in df_featured.columns if any(x in col for x in ['_lag', '_roll'])]\n",
    "print(df_featured[new_features].describe())\n"
   ]
  },
  {
   "cell_type": "code",
   "execution_count": 7,
   "id": "5656632b",
   "metadata": {},
   "outputs": [
    {
     "name": "stdout",
     "output_type": "stream",
     "text": [
      "Escalamiento global aplicado a 55 variables numéricas.\n",
      "\n",
      "[RF/XGB] Variables tabulares usadas: ['PC1', 'PC2', 'PC3', 'PC4', 'pib_per_capita', 'gbif_member', 'superficie_total_km2', 'occurrenceCount_publisher_lag3', 'occurrenceCount_publisher_lag5', 'occurrenceCount_publisher_rollmean3', 'occurrenceCount_publisher_rollstd3', 'occurrenceCount_publisher_rollmean5', 'occurrenceCount_publisher_rollstd5']\n",
      "Shape X_tab: (656, 13)  | Shape y_tab: (656,)\n",
      "\n",
      "[LSTM] Secuencias generadas\n",
      "Shape X_seq: (533, 3, 8)  | Shape y_seq: (533,)\n",
      "\n",
      "[Prophet] Dataset preparado\n",
      "Shape df_prophet: (656, 9)\n",
      "Regresores incluidos: ['PC1', 'PC2', 'PC3', 'PC4', 'pib_per_capita', 'gbif_member', 'superficie_total_km2']\n",
      "\n",
      "Se usará TimeSeriesSplit con 5 folds\n",
      "Años disponibles: [-1.62697843 -1.41004798 -1.19311752 -0.97618706 -0.7592566  -0.54232614\n",
      " -0.32539569 -0.10846523  0.10846523  0.32539569  0.54232614  0.7592566\n",
      "  0.97618706  1.19311752  1.41004798  1.62697843]\n"
     ]
    }
   ],
   "source": [
    "# =============================================================================\n",
    "# 3. PREPARACIÓN DE DATOS PARA LOS MODELOS\n",
    "# =============================================================================\n",
    "# ✅ NUEVO BLOQUE: ESCALAMIENTO GLOBAL DE VARIABLES NUMÉRICAS\n",
    "numeric_cols = df_featured.select_dtypes(include=['float64', 'int64']).columns.tolist()\n",
    "scaler_global = StandardScaler()\n",
    "\n",
    "df_featured_scaled = df_featured.copy()\n",
    "df_featured_scaled[numeric_cols] = scaler_global.fit_transform(df_featured[numeric_cols])\n",
    "print(f\"Escalamiento global aplicado a {len(numeric_cols)} variables numéricas.\")\n",
    "\n",
    "TARGET = 'occurrenceCount_publisher'\n",
    "\n",
    "# -------------------------------------------------------------------------\n",
    "# A. RandomForest y XGBoost (modelos tabulares)\n",
    "# -------------------------------------------------------------------------\n",
    "# Solo usan variables con ingeniería temporal (lags/roll)\n",
    "features_tabular = [\n",
    "    'PC1', 'PC2', 'PC3', 'PC4', \"pib_per_capita\", \"gbif_member\", \"ogp_member\", \"superficie_total_km2\",\"countryCode\"\n",
    "    f\"{TARGET}_lag1\", f\"{TARGET}_lag2\", f\"{TARGET}_lag3\", f\"{TARGET}_lag4\", f\"{TARGET}_lag5\",\n",
    "    f\"{TARGET}_rollmean3\", f\"{TARGET}_rollstd3\", f\"{TARGET}_rollmean5\", f\"{TARGET}_rollstd5\",\n",
    "    f\"{TARGET}_rollmean7\", f\"{TARGET}_rollstd7\"\n",
    "]\n",
    "\n",
    "# Filtrar variables existentes en el DataFrame\n",
    "features_tabular = [f for f in features_tabular if f in df_featured_scaled.columns]\n",
    "\n",
    "\n",
    "X_tab = df_featured_scaled[features_tabular].copy()\n",
    "y_tab = df_featured_scaled[TARGET].copy()\n",
    "\n",
    "print(\"\\n[RF/XGB] Variables tabulares usadas:\", features_tabular)\n",
    "print(\"Shape X_tab:\", X_tab.shape, \" | Shape y_tab:\", y_tab.shape)\n",
    "\n",
    "# -------------------------------------------------------------------------\n",
    "# B. LSTM (modelos secuenciales)\n",
    "# -------------------------------------------------------------------------\n",
    "\n",
    "\n",
    "def create_lstm_sequences_global(df, features, target, look_back=3):\n",
    "    \"\"\"\n",
    "    Crea secuencias LSTM para todos los países antes del split train/test.\n",
    "    Retorna X_seq, y_seq, years, countries (alineados).\n",
    "    \"\"\"\n",
    "    X_seq, y_seq, years, countries = [], [], [], []\n",
    "\n",
    "    for country in df['country'].unique():\n",
    "        df_country = df[df['country'] == country].sort_values('year')\n",
    "\n",
    "        # Extraer features y target como float32\n",
    "        X_country = df_country[features].values.astype(np.float32)\n",
    "        y_country = df_country[target].values.astype(np.float32)\n",
    "        years_country = df_country['year'].values\n",
    "\n",
    "        if len(X_country) > look_back:\n",
    "            for i in range(len(X_country) - look_back):\n",
    "                X_seq.append(X_country[i:(i + look_back)])\n",
    "                y_seq.append(y_country[i + look_back])\n",
    "                years.append(years_country[i + look_back])\n",
    "                countries.append(country)\n",
    "\n",
    "    return (\n",
    "        np.array(X_seq, dtype=np.float32),\n",
    "        np.array(y_seq, dtype=np.float32),\n",
    "        np.array(years),\n",
    "        np.array(countries),\n",
    "    )\n",
    "\n",
    "\n",
    "# Usan solo variables numéricas crudas (no lags ni rolling)\n",
    "features_lstm = ['PC1', 'PC2', 'PC3', 'PC4',\"pib_per_capita\", \"gbif_member\", \"ogp_membership\", \"superficie_total_km2\"]\n",
    "\n",
    "look_back = 3  # pasos atrás que considerará la red\n",
    "X_seq, y_seq, years_seq, countries_seq = create_lstm_sequences_global(\n",
    "    df_featured_scaled, \n",
    "    features=features_lstm, \n",
    "    target=TARGET, \n",
    "    look_back=look_back\n",
    ")\n",
    "\n",
    "print(\"\\n[LSTM] Secuencias generadas\")\n",
    "print(\"Shape X_seq:\", X_seq.shape, \" | Shape y_seq:\", y_seq.shape)\n",
    "\n",
    "# -------------------------------------------------------------------------\n",
    "# C. Prophet (modelo de series temporales)\n",
    "# -------------------------------------------------------------------------\n",
    "# Prophet necesita columnas ds (tiempo) y y (target)\n",
    "df_prophet = df_featured_scaled[['ds', TARGET]].rename(columns={TARGET: 'y'})\n",
    "regressors = ['PC1', 'PC2', 'PC3', 'PC4', \"pib_per_capita\", \"gbif_member\", \"ogp_member\", \"superficie_total_km2\"]\n",
    "regressors = [r for r in regressors if r in df_featured_scaled.columns]\n",
    "if regressors:\n",
    "    df_prophet = df_featured_scaled[['ds', TARGET] + regressors].rename(columns={TARGET: 'y'})\n",
    "\n",
    "\n",
    "print(\"\\n[Prophet] Dataset preparado\")\n",
    "print(\"Shape df_prophet:\", df_prophet.shape)\n",
    "print(\"Regresores incluidos:\", regressors if regressors else \"Ninguno\")\n",
    "\n",
    "# -------------------------------------------------------------------------\n",
    "# D. Validación cruzada temporal (común a todos los modelos)\n",
    "# -------------------------------------------------------------------------\n",
    "n_splits = 5\n",
    "tscv = TimeSeriesSplit(n_splits=n_splits)\n",
    "\n",
    "unique_years = df_featured_scaled['year'].unique()\n",
    "unique_years.sort()\n",
    "\n",
    "print(f\"\\nSe usará TimeSeriesSplit con {n_splits} folds\")\n",
    "print(\"Años disponibles:\", unique_years)\n",
    "\n",
    "# Diccionario para almacenar resultados\n",
    "results = {'Prophet': [], 'RandomForest': [], 'XGBoost': [], 'LSTM': []}\n"
   ]
  },
  {
   "cell_type": "code",
   "execution_count": 8,
   "id": "dba4d47d",
   "metadata": {},
   "outputs": [
    {
     "name": "stdout",
     "output_type": "stream",
     "text": [
      "\n",
      "Paso 4: Definiendo y probando hiperparámetros para cada modelo...\n",
      "Hiperparámetros definidos. Listos para optimización.\n"
     ]
    }
   ],
   "source": [
    "# =============================================================================\n",
    "# 4. DEFINICIÓN Y PRUEBA DE HIPERPARÁMETROS\n",
    "# =============================================================================\n",
    "print(\"\\nPaso 4: Definiendo y probando hiperparámetros para cada modelo...\")\n",
    "\n",
    "# -------------------------------------------------------------------------\n",
    "# A. Definición de hiperparámetros\n",
    "# -------------------------------------------------------------------------\n",
    "\n",
    "# Random Forest\n",
    "rf_param_dist = {\n",
    "    \"n_estimators\": [100, 200, 300],\n",
    "    \"max_depth\": [None, 10, 20],\n",
    "    \"min_samples_leaf\": [1, 2, 5],\n",
    "}\n",
    "\n",
    "# XGBoost\n",
    "xgb_param_grid = {\n",
    "    \"n_estimators\": [100, 200, 500],\n",
    "    \"max_depth\": [3, 5, 7],\n",
    "    \"learning_rate\": [0.01, 0.1, 0.2],\n",
    "    \"subsample\": [0.7, 0.9, 1.0],\n",
    "}\n",
    "\n",
    "# LSTM\n",
    "lstm_param_grid = [\n",
    "    {\"units\": 50, \"dropout\": 0.2, \"epochs\": 10, \"batch_size\": 16},\n",
    "    {\"units\": 100, \"dropout\": 0.3, \"epochs\": 20, \"batch_size\": 32},\n",
    "]\n",
    "\n",
    "# Prophet\n",
    "prophet_param_grid = [\n",
    "    {\"changepoint_prior_scale\": 0.01, \"seasonality_prior_scale\": 5},\n",
    "    {\"changepoint_prior_scale\": 0.1, \"seasonality_prior_scale\": 10},\n",
    "    {\"changepoint_prior_scale\": 0.5, \"seasonality_prior_scale\": 15},\n",
    "]\n",
    "\n",
    "print(\"Hiperparámetros definidos. Listos para optimización.\")"
   ]
  },
  {
   "cell_type": "code",
   "execution_count": 9,
   "id": "ff3b8219",
   "metadata": {},
   "outputs": [],
   "source": [
    "# =============================================================================\n",
    "# 5. OPTIMIZACIÓN DE MODELOS\n",
    "# =============================================================================\n",
    "def optimize_random_forest(X_train,y_train,param_dist=rf_param_dist):\n",
    "    rf=RandomForestRegressor(random_state=42,n_jobs=-1)\n",
    "    search=RandomizedSearchCV(rf,param_distributions=param_dist,n_iter=3,scoring=\"neg_mean_absolute_error\",cv=3,random_state=42)\n",
    "    search.fit(X_train,y_train)\n",
    "    return search.best_estimator_\n",
    "\n",
    "def optimize_xgboost(X_train,y_train,param_grid=xgb_param_grid):\n",
    "    best_model,best_mae=None,float(\"inf\")\n",
    "    for n in param_grid[\"n_estimators\"]:\n",
    "        for d in param_grid[\"max_depth\"]:\n",
    "            for lr in param_grid[\"learning_rate\"]:\n",
    "                for subs in param_grid[\"subsample\"]:\n",
    "                    model=xgb.XGBRegressor(n_estimators=n,max_depth=d,learning_rate=lr,subsample=subs,random_state=42,n_jobs=-1)\n",
    "                    model.fit(X_train,y_train)\n",
    "                    preds=model.predict(X_train)\n",
    "                    mae=mean_absolute_error(y_train,preds)\n",
    "                    if mae<best_mae: best_mae, best_model = mae, model\n",
    "    return best_model\n",
    "\n",
    "def optimize_lstm(X_train,y_train,look_back,param_grid=lstm_param_grid):\n",
    "    best_model,best_mae=None,float(\"inf\")\n",
    "    for params in param_grid:\n",
    "        model=tf.keras.Sequential([\n",
    "            tf.keras.layers.LSTM(params[\"units\"],activation=\"relu\",input_shape=(look_back,X_train.shape[2])),\n",
    "            tf.keras.layers.Dropout(params[\"dropout\"]),\n",
    "            tf.keras.layers.Dense(1)\n",
    "        ])\n",
    "        model.compile(optimizer=\"adam\",loss=\"mae\")\n",
    "        model.fit(X_train,y_train,epochs=params[\"epochs\"],batch_size=params[\"batch_size\"],verbose=0)\n",
    "        preds=model.predict(X_train,verbose=0).flatten()\n",
    "        mae=mean_absolute_error(y_train,preds)\n",
    "        if mae<best_mae: best_mae,best_model=mae,model\n",
    "    return best_model\n",
    "\n",
    "def optimize_prophet(train_df,target,param_grid=prophet_param_grid):\n",
    "    best_model,best_mae=None,float(\"inf\")\n",
    "    for params in param_grid:\n",
    "        m=Prophet(yearly_seasonality=True,daily_seasonality=False,\n",
    "                  changepoint_prior_scale=params[\"changepoint_prior_scale\"],\n",
    "                  seasonality_prior_scale=params[\"seasonality_prior_scale\"])\n",
    "        m.fit(train_df)\n",
    "        forecast=m.predict(train_df[[\"ds\"]])\n",
    "        mae=mean_absolute_error(train_df[\"y\"],forecast[\"yhat\"])\n",
    "        if mae<best_mae: best_mae,best_model=mae,m\n",
    "    return best_model\n"
   ]
  },
  {
   "cell_type": "code",
   "execution_count": 10,
   "id": "40edcd79",
   "metadata": {},
   "outputs": [],
   "source": [
    "# =============================================================================\n",
    "# 6. MÉTRICAS\n",
    "# =============================================================================\n",
    "\n",
    "from sklearn.metrics import mean_absolute_error, mean_squared_error, r2_score\n",
    "import numpy as np\n",
    "import pandas as pd\n",
    "\n",
    "def smape(y_true, y_pred, eps=1e-8):\n",
    "    y_true, y_pred = np.array(y_true), np.array(y_pred)\n",
    "    denom = (np.abs(y_true) + np.abs(y_pred)) + eps\n",
    "    return np.mean(2.0 * np.abs(y_pred - y_true) / denom) * 100\n",
    "\n",
    "def mape(y_true, y_pred, eps=1e-8):\n",
    "    y_true, y_pred = np.array(y_true), np.array(y_pred)\n",
    "    return np.mean(np.abs((y_true - y_pred) / (y_true + eps))) * 100\n",
    "\n",
    "def compute_metrics(y_true, y_pred):\n",
    "    return {\n",
    "        \"MAE\": mean_absolute_error(y_true, y_pred),\n",
    "        \"RMSE\": np.sqrt(mean_squared_error(y_true, y_pred)),\n",
    "        \"R2\": r2_score(y_true, y_pred),\n",
    "        \"MAPE\": mape(y_true, y_pred),\n",
    "        \"SMAPE\": smape(y_true, y_pred)\n",
    "    }\n"
   ]
  },
  {
   "cell_type": "markdown",
   "id": "986ce4a6",
   "metadata": {},
   "source": []
  },
  {
   "cell_type": "code",
   "execution_count": 11,
   "id": "e9c37c39",
   "metadata": {},
   "outputs": [
    {
     "name": "stdout",
     "output_type": "stream",
     "text": [
      "\n",
      "===== FOLD 1/5 =====\n",
      "WARNING:tensorflow:Layer lstm will not use cuDNN kernels since it doesn't meet the criteria. It will use a generic GPU kernel as fallback when running on GPU.\n"
     ]
    },
    {
     "name": "stderr",
     "output_type": "stream",
     "text": [
      "2025-10-05 16:31:54.501983: I metal_plugin/src/device/metal_device.cc:1154] Metal device set to: Apple M1 Pro\n",
      "2025-10-05 16:31:54.502802: I metal_plugin/src/device/metal_device.cc:296] systemMemory: 16.00 GB\n",
      "2025-10-05 16:31:54.502845: I metal_plugin/src/device/metal_device.cc:313] maxCacheSize: 5.33 GB\n",
      "2025-10-05 16:31:54.503372: I tensorflow/core/common_runtime/pluggable_device/pluggable_device_factory.cc:306] Could not identify NUMA node of platform GPU ID 0, defaulting to 0. Your kernel may not have been built with NUMA support.\n",
      "2025-10-05 16:31:54.503524: I tensorflow/core/common_runtime/pluggable_device/pluggable_device_factory.cc:272] Created TensorFlow device (/job:localhost/replica:0/task:0/device:GPU:0 with 0 MB memory) -> physical PluggableDevice (device: 0, name: METAL, pci bus id: <undefined>)\n",
      "2025-10-05 16:31:56.228290: I tensorflow/core/grappler/optimizers/custom_graph_optimizer_registry.cc:114] Plugin optimizer for device_type GPU is enabled.\n",
      "2025-10-05 16:31:56.411762: E tensorflow/core/grappler/optimizers/meta_optimizer.cc:954] model_pruner failed: INVALID_ARGUMENT: Graph does not contain terminal node AssignAddVariableOp_10.\n",
      "2025-10-05 16:32:00.754695: I tensorflow/core/grappler/optimizers/custom_graph_optimizer_registry.cc:114] Plugin optimizer for device_type GPU is enabled.\n"
     ]
    },
    {
     "name": "stdout",
     "output_type": "stream",
     "text": [
      "WARNING:tensorflow:Layer lstm_1 will not use cuDNN kernels since it doesn't meet the criteria. It will use a generic GPU kernel as fallback when running on GPU.\n"
     ]
    },
    {
     "name": "stderr",
     "output_type": "stream",
     "text": [
      "2025-10-05 16:32:01.721740: I tensorflow/core/grappler/optimizers/custom_graph_optimizer_registry.cc:114] Plugin optimizer for device_type GPU is enabled.\n",
      "2025-10-05 16:32:01.884633: E tensorflow/core/grappler/optimizers/meta_optimizer.cc:954] model_pruner failed: INVALID_ARGUMENT: Graph does not contain terminal node AssignAddVariableOp_10.\n",
      "2025-10-05 16:32:06.611236: I tensorflow/core/grappler/optimizers/custom_graph_optimizer_registry.cc:114] Plugin optimizer for device_type GPU is enabled.\n",
      "16:32:07 - cmdstanpy - INFO - Chain [1] start processing\n",
      "16:32:07 - cmdstanpy - INFO - Chain [1] done processing\n",
      "16:32:07 - cmdstanpy - INFO - Chain [1] start processing\n",
      "16:32:07 - cmdstanpy - INFO - Chain [1] done processing\n",
      "16:32:07 - cmdstanpy - INFO - Chain [1] start processing\n",
      "16:32:07 - cmdstanpy - INFO - Chain [1] done processing\n"
     ]
    },
    {
     "name": "stdout",
     "output_type": "stream",
     "text": [
      "\n",
      "===== FOLD 2/5 =====\n",
      "WARNING:tensorflow:Layer lstm_2 will not use cuDNN kernels since it doesn't meet the criteria. It will use a generic GPU kernel as fallback when running on GPU.\n"
     ]
    },
    {
     "name": "stderr",
     "output_type": "stream",
     "text": [
      "2025-10-05 16:32:29.664932: I tensorflow/core/grappler/optimizers/custom_graph_optimizer_registry.cc:114] Plugin optimizer for device_type GPU is enabled.\n",
      "2025-10-05 16:32:29.828243: E tensorflow/core/grappler/optimizers/meta_optimizer.cc:954] model_pruner failed: INVALID_ARGUMENT: Graph does not contain terminal node AssignAddVariableOp_10.\n",
      "2025-10-05 16:32:36.085809: I tensorflow/core/grappler/optimizers/custom_graph_optimizer_registry.cc:114] Plugin optimizer for device_type GPU is enabled.\n"
     ]
    },
    {
     "name": "stdout",
     "output_type": "stream",
     "text": [
      "WARNING:tensorflow:Layer lstm_3 will not use cuDNN kernels since it doesn't meet the criteria. It will use a generic GPU kernel as fallback when running on GPU.\n"
     ]
    },
    {
     "name": "stderr",
     "output_type": "stream",
     "text": [
      "2025-10-05 16:32:37.025831: I tensorflow/core/grappler/optimizers/custom_graph_optimizer_registry.cc:114] Plugin optimizer for device_type GPU is enabled.\n",
      "2025-10-05 16:32:37.182253: E tensorflow/core/grappler/optimizers/meta_optimizer.cc:954] model_pruner failed: INVALID_ARGUMENT: Graph does not contain terminal node AssignAddVariableOp_10.\n",
      "2025-10-05 16:32:43.723804: I tensorflow/core/grappler/optimizers/custom_graph_optimizer_registry.cc:114] Plugin optimizer for device_type GPU is enabled.\n",
      "16:32:44 - cmdstanpy - INFO - Chain [1] start processing\n",
      "16:32:44 - cmdstanpy - INFO - Chain [1] done processing\n",
      "16:32:44 - cmdstanpy - INFO - Chain [1] start processing\n",
      "16:32:44 - cmdstanpy - INFO - Chain [1] done processing\n",
      "16:32:44 - cmdstanpy - INFO - Chain [1] start processing\n",
      "16:32:44 - cmdstanpy - INFO - Chain [1] done processing\n"
     ]
    },
    {
     "name": "stdout",
     "output_type": "stream",
     "text": [
      "\n",
      "===== FOLD 3/5 =====\n",
      "WARNING:tensorflow:Layer lstm_4 will not use cuDNN kernels since it doesn't meet the criteria. It will use a generic GPU kernel as fallback when running on GPU.\n"
     ]
    },
    {
     "name": "stderr",
     "output_type": "stream",
     "text": [
      "2025-10-05 16:33:08.908875: I tensorflow/core/grappler/optimizers/custom_graph_optimizer_registry.cc:114] Plugin optimizer for device_type GPU is enabled.\n",
      "2025-10-05 16:33:09.073387: E tensorflow/core/grappler/optimizers/meta_optimizer.cc:954] model_pruner failed: INVALID_ARGUMENT: Graph does not contain terminal node AssignAddVariableOp_10.\n",
      "2025-10-05 16:33:16.935984: I tensorflow/core/grappler/optimizers/custom_graph_optimizer_registry.cc:114] Plugin optimizer for device_type GPU is enabled.\n"
     ]
    },
    {
     "name": "stdout",
     "output_type": "stream",
     "text": [
      "WARNING:tensorflow:Layer lstm_5 will not use cuDNN kernels since it doesn't meet the criteria. It will use a generic GPU kernel as fallback when running on GPU.\n"
     ]
    },
    {
     "name": "stderr",
     "output_type": "stream",
     "text": [
      "2025-10-05 16:33:18.051178: I tensorflow/core/grappler/optimizers/custom_graph_optimizer_registry.cc:114] Plugin optimizer for device_type GPU is enabled.\n",
      "2025-10-05 16:33:18.229894: E tensorflow/core/grappler/optimizers/meta_optimizer.cc:954] model_pruner failed: INVALID_ARGUMENT: Graph does not contain terminal node AssignAddVariableOp_10.\n",
      "2025-10-05 16:33:26.349807: I tensorflow/core/grappler/optimizers/custom_graph_optimizer_registry.cc:114] Plugin optimizer for device_type GPU is enabled.\n",
      "16:33:26 - cmdstanpy - INFO - Chain [1] start processing\n",
      "16:33:27 - cmdstanpy - INFO - Chain [1] done processing\n",
      "16:33:27 - cmdstanpy - INFO - Chain [1] start processing\n",
      "16:33:27 - cmdstanpy - INFO - Chain [1] done processing\n",
      "16:33:27 - cmdstanpy - INFO - Chain [1] start processing\n",
      "16:33:27 - cmdstanpy - INFO - Chain [1] done processing\n"
     ]
    },
    {
     "name": "stdout",
     "output_type": "stream",
     "text": [
      "\n",
      "===== FOLD 4/5 =====\n",
      "WARNING:tensorflow:Layer lstm_6 will not use cuDNN kernels since it doesn't meet the criteria. It will use a generic GPU kernel as fallback when running on GPU.\n"
     ]
    },
    {
     "name": "stderr",
     "output_type": "stream",
     "text": [
      "2025-10-05 16:33:52.322453: I tensorflow/core/grappler/optimizers/custom_graph_optimizer_registry.cc:114] Plugin optimizer for device_type GPU is enabled.\n",
      "2025-10-05 16:33:52.490747: E tensorflow/core/grappler/optimizers/meta_optimizer.cc:954] model_pruner failed: INVALID_ARGUMENT: Graph does not contain terminal node AssignAddVariableOp_10.\n",
      "2025-10-05 16:34:02.593609: I tensorflow/core/grappler/optimizers/custom_graph_optimizer_registry.cc:114] Plugin optimizer for device_type GPU is enabled.\n"
     ]
    },
    {
     "name": "stdout",
     "output_type": "stream",
     "text": [
      "WARNING:tensorflow:Layer lstm_7 will not use cuDNN kernels since it doesn't meet the criteria. It will use a generic GPU kernel as fallback when running on GPU.\n"
     ]
    },
    {
     "name": "stderr",
     "output_type": "stream",
     "text": [
      "2025-10-05 16:34:03.650798: I tensorflow/core/grappler/optimizers/custom_graph_optimizer_registry.cc:114] Plugin optimizer for device_type GPU is enabled.\n",
      "2025-10-05 16:34:03.820204: E tensorflow/core/grappler/optimizers/meta_optimizer.cc:954] model_pruner failed: INVALID_ARGUMENT: Graph does not contain terminal node AssignAddVariableOp_10.\n",
      "2025-10-05 16:34:14.696541: I tensorflow/core/grappler/optimizers/custom_graph_optimizer_registry.cc:114] Plugin optimizer for device_type GPU is enabled.\n",
      "16:34:15 - cmdstanpy - INFO - Chain [1] start processing\n",
      "16:34:15 - cmdstanpy - INFO - Chain [1] done processing\n",
      "16:34:15 - cmdstanpy - INFO - Chain [1] start processing\n",
      "16:34:15 - cmdstanpy - INFO - Chain [1] done processing\n",
      "16:34:15 - cmdstanpy - INFO - Chain [1] start processing\n",
      "16:34:15 - cmdstanpy - INFO - Chain [1] done processing\n"
     ]
    },
    {
     "name": "stdout",
     "output_type": "stream",
     "text": [
      "\n",
      "===== FOLD 5/5 =====\n",
      "WARNING:tensorflow:Layer lstm_8 will not use cuDNN kernels since it doesn't meet the criteria. It will use a generic GPU kernel as fallback when running on GPU.\n"
     ]
    },
    {
     "name": "stderr",
     "output_type": "stream",
     "text": [
      "2025-10-05 16:34:40.982842: I tensorflow/core/grappler/optimizers/custom_graph_optimizer_registry.cc:114] Plugin optimizer for device_type GPU is enabled.\n",
      "2025-10-05 16:34:41.139753: E tensorflow/core/grappler/optimizers/meta_optimizer.cc:954] model_pruner failed: INVALID_ARGUMENT: Graph does not contain terminal node AssignAddVariableOp_10.\n",
      "2025-10-05 16:34:53.468118: I tensorflow/core/grappler/optimizers/custom_graph_optimizer_registry.cc:114] Plugin optimizer for device_type GPU is enabled.\n"
     ]
    },
    {
     "name": "stdout",
     "output_type": "stream",
     "text": [
      "WARNING:tensorflow:Layer lstm_9 will not use cuDNN kernels since it doesn't meet the criteria. It will use a generic GPU kernel as fallback when running on GPU.\n"
     ]
    },
    {
     "name": "stderr",
     "output_type": "stream",
     "text": [
      "2025-10-05 16:34:54.595754: I tensorflow/core/grappler/optimizers/custom_graph_optimizer_registry.cc:114] Plugin optimizer for device_type GPU is enabled.\n",
      "2025-10-05 16:34:54.752373: E tensorflow/core/grappler/optimizers/meta_optimizer.cc:954] model_pruner failed: INVALID_ARGUMENT: Graph does not contain terminal node AssignAddVariableOp_10.\n",
      "2025-10-05 16:35:07.079213: I tensorflow/core/grappler/optimizers/custom_graph_optimizer_registry.cc:114] Plugin optimizer for device_type GPU is enabled.\n",
      "16:35:07 - cmdstanpy - INFO - Chain [1] start processing\n",
      "16:35:07 - cmdstanpy - INFO - Chain [1] done processing\n",
      "16:35:07 - cmdstanpy - INFO - Chain [1] start processing\n",
      "16:35:07 - cmdstanpy - INFO - Chain [1] done processing\n",
      "16:35:08 - cmdstanpy - INFO - Chain [1] start processing\n",
      "16:35:08 - cmdstanpy - INFO - Chain [1] done processing\n"
     ]
    }
   ],
   "source": [
    "# =============================================================================\n",
    "# 7. LOOP VALIDACIÓN CRUZADA\n",
    "# =============================================================================\n",
    "results_detailed={ \"Prophet\":[], \"RandomForest\":[], \"XGBoost\":[], \"LSTM\":[] }\n",
    "\n",
    "for fold,(train_idx,test_idx) in enumerate(tscv.split(unique_years)):\n",
    "    print(f\"\\n===== FOLD {fold+1}/{n_splits} =====\")\n",
    "    train_years=[unique_years[i] for i in train_idx]\n",
    "    test_years=[unique_years[i] for i in test_idx]\n",
    "\n",
    "    # --- RF ---\n",
    "    mask_train=df_featured_scaled['year'].isin(train_years)\n",
    "    mask_test=df_featured_scaled['year'].isin(test_years)\n",
    "    X_train,y_train=X_tab[mask_train],y_tab[mask_train]\n",
    "    X_test,y_test=X_tab[mask_test],y_tab[mask_test]\n",
    "    model=optimize_random_forest(X_train,y_train)\n",
    "    y_pred=model.predict(X_test)\n",
    "    metrics=compute_metrics(y_test,y_pred)\n",
    "    results_detailed[\"RandomForest\"].append({**metrics,\"params\":model.get_params(),\"fold\":fold+1})\n",
    "\n",
    "    # --- XGB ---\n",
    "    model=optimize_xgboost(X_train,y_train)\n",
    "    y_pred=model.predict(X_test)\n",
    "    metrics=compute_metrics(y_test,y_pred)\n",
    "    results_detailed[\"XGBoost\"].append({**metrics,\"params\":model.get_params(),\"fold\":fold+1})\n",
    "\n",
    "    # --- LSTM ---\n",
    "    mask_train_lstm=np.isin(years_seq,train_years)\n",
    "    mask_test_lstm=np.isin(years_seq,test_years)\n",
    "    X_train_lstm,y_train_lstm=X_seq[mask_train_lstm],y_seq[mask_train_lstm]\n",
    "    X_test_lstm,y_test_lstm=X_seq[mask_test_lstm],y_seq[mask_test_lstm]\n",
    "    if len(X_train_lstm)>0 and len(X_test_lstm)>0:\n",
    "        model=optimize_lstm(X_train_lstm,y_train_lstm,look_back)\n",
    "        y_pred=model.predict(X_test_lstm,verbose=0).flatten()\n",
    "        metrics=compute_metrics(y_test_lstm,y_pred)\n",
    "        results_detailed[\"LSTM\"].append({**metrics,\"fold\":fold+1})\n",
    "\n",
    "    # --- Prophet ---\n",
    "    prophet_train=df_prophet[df_featured_scaled['year'].isin(train_years)]\n",
    "    prophet_test=df_prophet[df_featured_scaled['year'].isin(test_years)]\n",
    "    try:\n",
    "        model=optimize_prophet(prophet_train,\"y\")\n",
    "        forecast=model.predict(prophet_test[[\"ds\"]])\n",
    "        metrics=compute_metrics(prophet_test[\"y\"].values,forecast[\"yhat\"].values)\n",
    "        results_detailed[\"Prophet\"].append({**metrics,\"fold\":fold+1})\n",
    "    except Exception as e:\n",
    "        print(f\"⚠️ Prophet falló en fold {fold+1}: {e}\")\n"
   ]
  },
  {
   "cell_type": "code",
   "execution_count": 12,
   "id": "058fa0cf",
   "metadata": {},
   "outputs": [
    {
     "name": "stdout",
     "output_type": "stream",
     "text": [
      "\n",
      "Resultados detallados por fold:\n",
      "           model       MAE      RMSE        R2         MAPE       SMAPE  fold  \\\n",
      "0        Prophet  0.636854  0.927377 -0.084442   215.393948  122.806232     1   \n",
      "1        Prophet  0.620063  0.892155 -0.065951   217.096462  118.429458     2   \n",
      "2        Prophet  0.444781  0.533788 -0.018131  2761.408946  101.392383     3   \n",
      "3        Prophet  0.424921  0.530830 -0.088896   248.476446   82.369163     4   \n",
      "4        Prophet  0.415847  0.534732 -0.124794   213.518843   74.660361     5   \n",
      "5   RandomForest  0.244026  0.411589  0.786390   143.424173   45.904372     1   \n",
      "6   RandomForest  0.167200  0.259118  0.910081    92.815659   39.695191     2   \n",
      "7   RandomForest  0.247771  0.388531  0.460590   622.421707   55.707418     3   \n",
      "8   RandomForest  0.093764  0.138183  0.926212    71.880729   30.098809     4   \n",
      "9   RandomForest  0.050555  0.074579  0.978121    31.594404   23.352083     5   \n",
      "10       XGBoost  0.249357  0.423194  0.774174   139.965112   49.383440     1   \n",
      "11       XGBoost  0.174132  0.247683  0.917842    64.998557   41.950820     2   \n",
      "12       XGBoost  0.211667  0.345724  0.572903   158.621012   53.372686     3   \n",
      "13       XGBoost  0.129441  0.194091  0.854425    98.899210   38.584692     4   \n",
      "14       XGBoost  0.077514  0.149940  0.911563    84.727372   25.436287     5   \n",
      "15          LSTM  0.386134  0.624871  0.507650   197.936678   77.892321     1   \n",
      "16          LSTM  0.279490  0.506130  0.656931   172.023141   54.267299     2   \n",
      "17          LSTM  0.319127  0.404535  0.415238  1085.190296   75.519383     3   \n",
      "18          LSTM  0.205826  0.287716  0.680109   100.272930   48.733264     4   \n",
      "19          LSTM  0.203712  0.255542  0.743122    93.486238   46.911806     5   \n",
      "\n",
      "                                               params  \n",
      "0                                                 NaN  \n",
      "1                                                 NaN  \n",
      "2                                                 NaN  \n",
      "3                                                 NaN  \n",
      "4                                                 NaN  \n",
      "5   {'bootstrap': True, 'ccp_alpha': 0.0, 'criteri...  \n",
      "6   {'bootstrap': True, 'ccp_alpha': 0.0, 'criteri...  \n",
      "7   {'bootstrap': True, 'ccp_alpha': 0.0, 'criteri...  \n",
      "8   {'bootstrap': True, 'ccp_alpha': 0.0, 'criteri...  \n",
      "9   {'bootstrap': True, 'ccp_alpha': 0.0, 'criteri...  \n",
      "10  {'objective': 'reg:squarederror', 'base_score'...  \n",
      "11  {'objective': 'reg:squarederror', 'base_score'...  \n",
      "12  {'objective': 'reg:squarederror', 'base_score'...  \n",
      "13  {'objective': 'reg:squarederror', 'base_score'...  \n",
      "14  {'objective': 'reg:squarederror', 'base_score'...  \n",
      "15                                                NaN  \n",
      "16                                                NaN  \n",
      "17                                                NaN  \n",
      "18                                                NaN  \n",
      "19                                                NaN  \n",
      "\n",
      "Resumen por modelo:\n",
      "                   MAE      RMSE        R2        MAPE      SMAPE\n",
      "model                                                            \n",
      "LSTM          0.278858  0.415759  0.600610  329.781857  60.664815\n",
      "Prophet       0.508493  0.683776 -0.076443  731.178929  99.931519\n",
      "RandomForest  0.160663  0.254400  0.812279  192.427334  38.951575\n",
      "XGBoost       0.168422  0.272127  0.806181  109.442252  41.745585\n"
     ]
    }
   ],
   "source": [
    "# =============================================================================\n",
    "# 8. RESUMEN DE RESULTADOS\n",
    "# =============================================================================\n",
    "df_results=pd.DataFrame([{\"model\":m,**res} for m,entries in results_detailed.items() for res in entries])\n",
    "print(\"\\nResultados detallados por fold:\")\n",
    "print(df_results)\n",
    "print(\"\\nResumen por modelo:\")\n",
    "print(df_results.groupby(\"model\")[[\"MAE\",\"RMSE\",\"R2\",\"MAPE\",\"SMAPE\"]].mean())\n"
   ]
  },
  {
   "cell_type": "markdown",
   "id": "54aae48e",
   "metadata": {},
   "source": [
    "Pendientes: \n",
    "\n",
    "    INCLUIR SARIMAX DE TODOS MODOS, INTENTAR HACER UNA TRANSFORMACIÓN LOGARÍTMICA, SE PUEDE PONER SIN LA VALIDACIÓN DE SUPUESTOS. \n",
    "    TENER CUIDADO CON EL CROSS VALIDATION - Rehacer formula del MAPE porque los valores no son coherentes\n",
    "    Aplicar rezagos en bloques. Se deben hacer modelos con diferentes rezagos. Tener en cuenta que se pierden observaciones. Tomar todas las X y rezagar todas y hasta 3 periodos. Si incluir y-1.\n",
    "    "
   ]
  },
  {
   "cell_type": "code",
   "execution_count": null,
   "id": "1fe76b14",
   "metadata": {},
   "outputs": [
    {
     "name": "stdout",
     "output_type": "stream",
     "text": [
      "✅ Secuencias generadas: 533\n",
      "Rango de años: 2010 - 2022\n",
      "Número de países: 41\n",
      "\n",
      "===== FOLD 1/5 =====\n",
      "Train seq: 123 | Test seq: 82\n",
      "WARNING:tensorflow:Layer lstm_10 will not use cuDNN kernels since it doesn't meet the criteria. It will use a generic GPU kernel as fallback when running on GPU.\n"
     ]
    },
    {
     "name": "stderr",
     "output_type": "stream",
     "text": [
      "2025-10-05 10:36:13.471813: I tensorflow/core/grappler/optimizers/custom_graph_optimizer_registry.cc:114] Plugin optimizer for device_type GPU is enabled.\n",
      "2025-10-05 10:36:13.709490: E tensorflow/core/grappler/optimizers/meta_optimizer.cc:954] model_pruner failed: INVALID_ARGUMENT: Graph does not contain terminal node AssignAddVariableOp_10.\n",
      "2025-10-05 10:36:17.306868: I tensorflow/core/grappler/optimizers/custom_graph_optimizer_registry.cc:114] Plugin optimizer for device_type GPU is enabled.\n",
      "2025-10-05 10:36:26.834138: I tensorflow/core/grappler/optimizers/custom_graph_optimizer_registry.cc:114] Plugin optimizer for device_type GPU is enabled.\n"
     ]
    },
    {
     "name": "stdout",
     "output_type": "stream",
     "text": [
      "Fold 1 → MAE: 6.03, RMSE: 8.15, R²: -1.771, MAPE: 7021584000.00%\n",
      "\n",
      "===== FOLD 2/5 =====\n",
      "Train seq: 205 | Test seq: 82\n",
      "WARNING:tensorflow:Layer lstm_11 will not use cuDNN kernels since it doesn't meet the criteria. It will use a generic GPU kernel as fallback when running on GPU.\n"
     ]
    },
    {
     "name": "stderr",
     "output_type": "stream",
     "text": [
      "2025-10-05 10:36:28.271058: I tensorflow/core/grappler/optimizers/custom_graph_optimizer_registry.cc:114] Plugin optimizer for device_type GPU is enabled.\n",
      "2025-10-05 10:36:28.461678: E tensorflow/core/grappler/optimizers/meta_optimizer.cc:954] model_pruner failed: INVALID_ARGUMENT: Graph does not contain terminal node AssignAddVariableOp_10.\n",
      "2025-10-05 10:36:30.838039: I tensorflow/core/grappler/optimizers/custom_graph_optimizer_registry.cc:114] Plugin optimizer for device_type GPU is enabled.\n",
      "2025-10-05 10:36:44.015495: I tensorflow/core/grappler/optimizers/custom_graph_optimizer_registry.cc:114] Plugin optimizer for device_type GPU is enabled.\n"
     ]
    },
    {
     "name": "stdout",
     "output_type": "stream",
     "text": [
      "Fold 2 → MAE: 3.23, RMSE: 4.14, R²: 0.238, MAPE: 4587152000.00%\n",
      "\n",
      "===== FOLD 3/5 =====\n",
      "Train seq: 287 | Test seq: 82\n",
      "WARNING:tensorflow:Layer lstm_12 will not use cuDNN kernels since it doesn't meet the criteria. It will use a generic GPU kernel as fallback when running on GPU.\n"
     ]
    },
    {
     "name": "stderr",
     "output_type": "stream",
     "text": [
      "2025-10-05 10:36:45.514857: I tensorflow/core/grappler/optimizers/custom_graph_optimizer_registry.cc:114] Plugin optimizer for device_type GPU is enabled.\n",
      "2025-10-05 10:36:45.721622: E tensorflow/core/grappler/optimizers/meta_optimizer.cc:954] model_pruner failed: INVALID_ARGUMENT: Graph does not contain terminal node AssignAddVariableOp_10.\n",
      "2025-10-05 10:36:48.243052: I tensorflow/core/grappler/optimizers/custom_graph_optimizer_registry.cc:114] Plugin optimizer for device_type GPU is enabled.\n",
      "2025-10-05 10:36:57.669589: I tensorflow/core/grappler/optimizers/custom_graph_optimizer_registry.cc:114] Plugin optimizer for device_type GPU is enabled.\n"
     ]
    },
    {
     "name": "stdout",
     "output_type": "stream",
     "text": [
      "Fold 3 → MAE: 5.04, RMSE: 6.78, R²: -4.441, MAPE: 34.89%\n",
      "\n",
      "===== FOLD 4/5 =====\n",
      "Train seq: 369 | Test seq: 82\n",
      "WARNING:tensorflow:Layer lstm_13 will not use cuDNN kernels since it doesn't meet the criteria. It will use a generic GPU kernel as fallback when running on GPU.\n"
     ]
    },
    {
     "name": "stderr",
     "output_type": "stream",
     "text": [
      "2025-10-05 10:37:01.578071: I tensorflow/core/grappler/optimizers/custom_graph_optimizer_registry.cc:114] Plugin optimizer for device_type GPU is enabled.\n",
      "2025-10-05 10:37:01.754878: E tensorflow/core/grappler/optimizers/meta_optimizer.cc:954] model_pruner failed: INVALID_ARGUMENT: Graph does not contain terminal node AssignAddVariableOp_10.\n",
      "2025-10-05 10:37:03.922892: I tensorflow/core/grappler/optimizers/custom_graph_optimizer_registry.cc:114] Plugin optimizer for device_type GPU is enabled.\n"
     ]
    },
    {
     "name": "stdout",
     "output_type": "stream",
     "text": [
      "WARNING:tensorflow:5 out of the last 28 calls to <function Model.make_predict_function.<locals>.predict_function at 0x1bd085310> triggered tf.function retracing. Tracing is expensive and the excessive number of tracings could be due to (1) creating @tf.function repeatedly in a loop, (2) passing tensors with different shapes, (3) passing Python objects instead of tensors. For (1), please define your @tf.function outside of the loop. For (2), @tf.function has reduce_retracing=True option that can avoid unnecessary retracing. For (3), please refer to https://www.tensorflow.org/guide/function#controlling_retracing and https://www.tensorflow.org/api_docs/python/tf/function for  more details.\n"
     ]
    },
    {
     "name": "stderr",
     "output_type": "stream",
     "text": [
      "2025-10-05 10:37:17.303210: I tensorflow/core/grappler/optimizers/custom_graph_optimizer_registry.cc:114] Plugin optimizer for device_type GPU is enabled.\n"
     ]
    },
    {
     "name": "stdout",
     "output_type": "stream",
     "text": [
      "Fold 4 → MAE: 3.41, RMSE: 4.36, R²: -1.427, MAPE: 22.67%\n",
      "\n",
      "===== FOLD 5/5 =====\n",
      "Train seq: 451 | Test seq: 82\n",
      "WARNING:tensorflow:Layer lstm_14 will not use cuDNN kernels since it doesn't meet the criteria. It will use a generic GPU kernel as fallback when running on GPU.\n"
     ]
    },
    {
     "name": "stderr",
     "output_type": "stream",
     "text": [
      "2025-10-05 10:37:18.242805: I tensorflow/core/grappler/optimizers/custom_graph_optimizer_registry.cc:114] Plugin optimizer for device_type GPU is enabled.\n",
      "2025-10-05 10:37:18.419447: E tensorflow/core/grappler/optimizers/meta_optimizer.cc:954] model_pruner failed: INVALID_ARGUMENT: Graph does not contain terminal node AssignAddVariableOp_10.\n",
      "2025-10-05 10:37:20.884260: I tensorflow/core/grappler/optimizers/custom_graph_optimizer_registry.cc:114] Plugin optimizer for device_type GPU is enabled.\n"
     ]
    },
    {
     "name": "stdout",
     "output_type": "stream",
     "text": [
      "WARNING:tensorflow:5 out of the last 13 calls to <function Model.make_predict_function.<locals>.predict_function at 0x1bb694c10> triggered tf.function retracing. Tracing is expensive and the excessive number of tracings could be due to (1) creating @tf.function repeatedly in a loop, (2) passing tensors with different shapes, (3) passing Python objects instead of tensors. For (1), please define your @tf.function outside of the loop. For (2), @tf.function has reduce_retracing=True option that can avoid unnecessary retracing. For (3), please refer to https://www.tensorflow.org/guide/function#controlling_retracing and https://www.tensorflow.org/api_docs/python/tf/function for  more details.\n"
     ]
    },
    {
     "name": "stderr",
     "output_type": "stream",
     "text": [
      "2025-10-05 10:37:29.053042: I tensorflow/core/grappler/optimizers/custom_graph_optimizer_registry.cc:114] Plugin optimizer for device_type GPU is enabled.\n"
     ]
    },
    {
     "name": "stdout",
     "output_type": "stream",
     "text": [
      "Fold 5 → MAE: 188.20, RMSE: 1315.72, R²: -225507.531, MAPE: 1140.30%\n",
      "\n",
      "Resultados globales LSTM:\n",
      "              MAE         RMSE             R2          MAPE      fold\n",
      "count    5.000000     5.000000       5.000000  5.000000e+00  5.000000\n",
      "mean    41.181616   267.828368  -45102.986272  2.321747e+09  3.000000\n",
      "std     82.191693   585.789594  100849.206519  3.293632e+09  1.581139\n",
      "min      3.233918     4.144083 -225507.531250  2.267471e+01  1.000000\n",
      "25%      3.407403     4.355132      -4.440553  3.489110e+01  2.000000\n",
      "50%      5.039518     6.780622      -1.770658  1.140298e+03  3.000000\n",
      "75%      6.031378     8.145657      -1.427255  4.587152e+09  4.000000\n",
      "max    188.195862  1315.716345       0.238358  7.021584e+09  5.000000\n"
     ]
    },
    {
     "data": {
      "image/png": "[encoded data removed]",
      "text/plain": [
       "<Figure size 800x500 with 1 Axes>"
      ]
     },
     "metadata": {},
     "output_type": "display_data"
    },
    {
     "ename": "",
     "evalue": "",
     "output_type": "error",
     "traceback": [
      "\u001b[1;31mnotebook controller is DISPOSED. \n",
      "\u001b[1;31mView Jupyter <a href='command:jupyter.viewOutput'>log</a> for further details."
     ]
    }
   ],
   "source": [
    "import numpy as np\n",
    "import pandas as pd\n",
    "from sklearn.preprocessing import StandardScaler\n",
    "from sklearn.metrics import mean_absolute_error, mean_squared_error, r2_score\n",
    "from math import sqrt\n",
    "import tensorflow as tf\n",
    "from sklearn.model_selection import TimeSeriesSplit\n",
    "import matplotlib.pyplot as plt\n",
    "import seaborn as sns\n",
    "\n",
    "# =============================================================================\n",
    "# CONFIGURACIÓN BÁSICA\n",
    "# =============================================================================\n",
    "n_splits = 5\n",
    "look_back = 3\n",
    "TARGET = 'occurrenceCount_publisher'\n",
    "\n",
    "# =============================================================================\n",
    "# FUNCIÓN AUXILIAR: Crear secuencias LSTM globales\n",
    "# =============================================================================\n",
    "def create_lstm_sequences_global(df, features, target, look_back=3):\n",
    "    X_seq, y_seq, years, countries = [], [], [], []\n",
    "    for country in df['country'].unique():\n",
    "        df_country = df[df['country'] == country].sort_values('year')\n",
    "        X_country = df_country[features].values.astype(np.float32)\n",
    "        y_country = df_country[target].values.astype(np.float32)\n",
    "        years_country = df_country['year'].values\n",
    "\n",
    "        if len(X_country) > look_back:\n",
    "            for i in range(len(X_country) - look_back):\n",
    "                X_seq.append(X_country[i:(i + look_back)])\n",
    "                y_seq.append(y_country[i + look_back])\n",
    "                years.append(years_country[i + look_back])\n",
    "                countries.append(country)\n",
    "    return np.array(X_seq), np.array(y_seq), np.array(years), np.array(countries)\n",
    "\n",
    "# =============================================================================\n",
    "# FUNCIÓN: Calcular métricas\n",
    "# =============================================================================\n",
    "def compute_metrics(y_true, y_pred):\n",
    "    mae = mean_absolute_error(y_true, y_pred)\n",
    "    rmse = sqrt(mean_squared_error(y_true, y_pred))\n",
    "    r2 = r2_score(y_true, y_pred)\n",
    "    mape = np.mean(np.abs((y_true - y_pred) / np.maximum(np.abs(y_true), 1e-8))) * 100\n",
    "    return {\"MAE\": mae, \"RMSE\": rmse, \"R2\": r2, \"MAPE\": mape}\n",
    "\n",
    "# =============================================================================\n",
    "# CREAR SECUENCIAS\n",
    "# =============================================================================\n",
    "features_lstm = ['PC1', 'PC2', 'PC3', 'PC4', \"pib_per_capita\", \"gbif_member\", \"ogp_membership\", \"superficie_total_km2\"]\n",
    "\n",
    "X_seq, y_seq, years_seq, countries_seq = create_lstm_sequences_global(\n",
    "    df_featured, features_lstm, TARGET, look_back\n",
    ")\n",
    "\n",
    "print(f\"✅ Secuencias generadas: {X_seq.shape[0]}\")\n",
    "print(f\"Rango de años: {years_seq.min()} - {years_seq.max()}\")\n",
    "print(f\"Número de países: {len(np.unique(countries_seq))}\")\n",
    "\n",
    "# =============================================================================\n",
    "# CROSS VALIDATION TEMPORAL\n",
    "# =============================================================================\n",
    "tscv = TimeSeriesSplit(n_splits=n_splits)\n",
    "unique_years = np.sort(df_featured['year'].unique())\n",
    "results_lstm = []\n",
    "\n",
    "for fold, (train_idx, test_idx) in enumerate(tscv.split(unique_years)):\n",
    "    print(f\"\\n===== FOLD {fold+1}/{n_splits} =====\")\n",
    "    train_years = unique_years[train_idx]\n",
    "    test_years = unique_years[test_idx]\n",
    "\n",
    "    # Máscaras\n",
    "    mask_train = np.isin(years_seq, train_years)\n",
    "    mask_test = np.isin(years_seq, test_years)\n",
    "\n",
    "    X_train, y_train = X_seq[mask_train], y_seq[mask_train]\n",
    "    X_test, y_test = X_seq[mask_test], y_seq[mask_test]\n",
    "\n",
    "    print(f\"Train seq: {len(y_train)} | Test seq: {len(y_test)}\")\n",
    "\n",
    "    # Saltar fold si no hay suficientes datos\n",
    "    if len(y_test) < 3:\n",
    "        print(\"⚠️ Muy pocos datos en test, se salta este fold.\")\n",
    "        continue\n",
    "\n",
    "    # Escalado correcto por fold (fit solo en train)\n",
    "    scaler = StandardScaler()\n",
    "    X_train_flat = X_train.reshape(-1, X_train.shape[2])\n",
    "    X_test_flat = X_test.reshape(-1, X_test.shape[2])\n",
    "\n",
    "    scaler.fit(X_train_flat)\n",
    "    X_train_scaled = scaler.transform(X_train_flat).reshape(X_train.shape)\n",
    "    X_test_scaled = scaler.transform(X_test_flat).reshape(X_test.shape)\n",
    "\n",
    "    # Transformar y (log1p)\n",
    "    y_train_log = np.log1p(y_train)\n",
    "    y_test_log = np.log1p(y_test)\n",
    "\n",
    "    # Modelo LSTM simple\n",
    "    model = tf.keras.Sequential([\n",
    "        tf.keras.layers.LSTM(64, activation=\"relu\", input_shape=(look_back, X_train.shape[2])),\n",
    "        tf.keras.layers.Dropout(0.2),\n",
    "        tf.keras.layers.Dense(1)\n",
    "    ])\n",
    "    model.compile(optimizer=\"adam\", loss=\"mae\")\n",
    "\n",
    "    # Entrenamiento\n",
    "    es = tf.keras.callbacks.EarlyStopping(monitor='val_loss', patience=5, restore_best_weights=True)\n",
    "    model.fit(X_train_scaled, y_train_log, validation_split=0.1, epochs=50, batch_size=16, verbose=0, callbacks=[es])\n",
    "\n",
    "    # Predicción\n",
    "    y_pred_log = model.predict(X_test_scaled, verbose=0).flatten()\n",
    "    y_pred = np.expm1(y_pred_log)  # Volver a escala original\n",
    "\n",
    "    # Métricas\n",
    "    metrics = compute_metrics(y_test, y_pred)\n",
    "    metrics[\"fold\"] = fold + 1\n",
    "    results_lstm.append(metrics)\n",
    "\n",
    "    print(f\"Fold {fold+1} → MAE: {metrics['MAE']:.2f}, RMSE: {metrics['RMSE']:.2f}, R²: {metrics['R2']:.3f}, MAPE: {metrics['MAPE']:.2f}%\")\n",
    "\n",
    "# =============================================================================\n",
    "# RESULTADOS Y VISUALIZACIÓN\n",
    "# =============================================================================\n",
    "results_df = pd.DataFrame(results_lstm)\n",
    "print(\"\\nResultados globales LSTM:\")\n",
    "print(results_df.describe())\n",
    "\n",
    "plt.figure(figsize=(8,5))\n",
    "sns.boxplot(data=results_df[['MAE','RMSE','MAPE']])\n",
    "plt.title(\"Distribución de métricas LSTM por fold\")\n",
    "plt.show()\n",
    "\n"
   ]
  },
  {
   "cell_type": "code",
   "execution_count": null,
   "id": "b4ab74f7",
   "metadata": {},
   "outputs": [
    {
     "name": "stdout",
     "output_type": "stream",
     "text": [
      "Distribución del TARGET (occurrenceCount_publisher):\n",
      "count    656.000000\n",
      "mean      12.537234\n",
      "std        5.499366\n",
      "min        0.000000\n",
      "25%       11.204081\n",
      "50%       14.290054\n",
      "75%       16.309018\n",
      "max       20.582081\n",
      "Name: occurrenceCount_publisher, dtype: float64\n"
     ]
    },
    {
     "data": {
      "image/png": "[encoded data removed]",
      "text/plain": [
       "<Figure size 1500x700 with 1 Axes>"
      ]
     },
     "metadata": {},
     "output_type": "display_data"
    },
    {
     "name": "stdout",
     "output_type": "stream",
     "text": [
      "Número de países: 41\n",
      "Rango de años: 2007 - 2022\n",
      "count    41.0\n",
      "mean     16.0\n",
      "std       0.0\n",
      "min      16.0\n",
      "25%      16.0\n",
      "50%      16.0\n",
      "75%      16.0\n",
      "max      16.0\n",
      "Name: year, dtype: float64\n",
      "NaN en secuencias LSTM: 0  | En y_seq: 0\n",
      "               PC1          PC2          PC3          PC4  pib_per_capita  \\\n",
      "count  1599.000000  1599.000000  1599.000000  1599.000000     1599.000000   \n",
      "mean      0.038145     0.045123    -0.000823     0.010523    30966.714844   \n",
      "std       2.417112     1.246508     0.981483     0.778076    27602.232422   \n",
      "min      -3.872488    -4.413805    -1.056901    -2.862347      364.366974   \n",
      "25%      -1.713972    -0.601293    -0.487503    -0.395795     7366.324463   \n",
      "50%      -0.578441     0.030592    -0.225037    -0.041921    22442.142578   \n",
      "75%       1.485097     0.680051     0.213725     0.443456    48642.632812   \n",
      "max       5.620231     4.425407     6.145605     3.091711   134965.812500   \n",
      "\n",
      "       gbif_member  ogp_membership  superficie_total_km2  \n",
      "count  1599.000000     1599.000000          1.599000e+03  \n",
      "mean      0.901188        0.431520          1.454364e+06  \n",
      "std       0.298502        0.495443          3.161314e+06  \n",
      "min       0.000000        0.000000          4.700000e+02  \n",
      "25%       1.000000        0.000000          5.679000e+04  \n",
      "50%       1.000000        0.000000          3.126800e+05  \n",
      "75%       1.000000        1.000000          1.030700e+06  \n",
      "max       1.000000        1.000000          1.564050e+07  \n"
     ]
    },
    {
     "data": {
      "image/png": "[encoded data removed]",
      "text/plain": [
       "<Figure size 1000x500 with 1 Axes>"
      ]
     },
     "metadata": {},
     "output_type": "display_data"
    },
    {
     "ename": "",
     "evalue": "",
     "output_type": "error",
     "traceback": [
      "\u001b[1;31mnotebook controller is DISPOSED. \n",
      "\u001b[1;31mView Jupyter <a href='command:jupyter.viewOutput'>log</a> for further details."
     ]
    }
   ],
   "source": [
    "# ============================================================\n",
    "# DIAGNÓSTICO DE DATOS Y CONFIGURACIÓN PARA LSTM\n",
    "# ============================================================\n",
    "\n",
    "# 1️⃣ Revisar rango y estadísticos del target\n",
    "print(\"Distribución del TARGET (occurrenceCount_publisher):\")\n",
    "print(df_featured[TARGET].describe())\n",
    "sns.histplot(df_featured[TARGET], bins=30)\n",
    "plt.title(\"Distribución original del TARGET\")\n",
    "plt.show()\n",
    "\n",
    "# 2️⃣ Verificar la cantidad de años y países\n",
    "print(f\"Número de países: {df_featured['country'].nunique()}\")\n",
    "print(f\"Rango de años: {df_featured['year'].min()} - {df_featured['year'].max()}\")\n",
    "print(df_featured.groupby('country')['year'].nunique().describe())\n",
    "\n",
    "# 3️⃣ Verificar NaN en las secuencias creadas\n",
    "print(\"NaN en secuencias LSTM:\", np.isnan(X_seq).sum(), \" | En y_seq:\", np.isnan(y_seq).sum())\n",
    "\n",
    "# 4️⃣ Revisar escala de features usados en LSTM\n",
    "print(pd.DataFrame(X_seq.reshape(-1, X_seq.shape[2]), columns=features_lstm).describe())\n",
    "\n",
    "# 5️⃣ Visualizar una secuencia ejemplo\n",
    "sample_country = np.random.choice(df_featured['country'].unique())\n",
    "df_country = df_featured[df_featured['country'] == sample_country].sort_values('year')\n",
    "plt.figure(figsize=(10,5))\n",
    "plt.plot(df_country['year'], df_country[TARGET])\n",
    "plt.title(f\"Evolución de {TARGET} para {sample_country}\")\n",
    "plt.xlabel(\"Año\"); plt.ylabel(TARGET)\n",
    "plt.show()\n"
   ]
  }
 ],
 "metadata": {
  "kernelspec": {
   "display_name": "tf_m1",
   "language": "python",
   "name": "python3"
  },
  "language_info": {
   "codemirror_mode": {
    "name": "ipython",
    "version": 3
   },
   "file_extension": ".py",
   "mimetype": "text/x-python",
   "name": "python",
   "nbconvert_exporter": "python",
   "pygments_lexer": "ipython3",
   "version": "3.9.23"
  }
 },
 "nbformat": 4,
 "nbformat_minor": 5
}
